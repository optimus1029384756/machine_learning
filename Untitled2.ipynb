{
  "nbformat": 4,
  "nbformat_minor": 0,
  "metadata": {
    "colab": {
      "provenance": [],
      "authorship_tag": "ABX9TyOd2H03dkGs+uGZr8Z1puY/",
      "include_colab_link": true
    },
    "kernelspec": {
      "name": "python3",
      "display_name": "Python 3"
    },
    "language_info": {
      "name": "python"
    }
  },
  "cells": [
    {
      "cell_type": "markdown",
      "metadata": {
        "id": "view-in-github",
        "colab_type": "text"
      },
      "source": [
        "<a href=\"https://colab.research.google.com/github/optimus1029384756/study/blob/main/Untitled2.ipynb\" target=\"_parent\"><img src=\"https://colab.research.google.com/assets/colab-badge.svg\" alt=\"Open In Colab\"/></a>"
      ]
    },
    {
      "cell_type": "code",
      "source": [
        "import torch\n",
        "import torch.nn as nn\n",
        "import torch.nn.functional as F\n",
        "import torch.optim as optim\n",
        "\n",
        "x_data = [[1, 2], [2, 3], [3, 1], [4, 3], [5, 3], [6, 2]]\n",
        "y_data = [[0], [0], [0], [1], [1], [1]]\n",
        "x_train = torch.FloatTensor(x_data)\n",
        "y_train = torch.FloatTensor(y_data)\n",
        "\"\"\" - 실습 문제 1\n",
        "    H(x) = sigmoid(Wx + b)\n",
        "    위의 수식을 참고하세요\n",
        "    x_train와 y_train을 먼저 텐서로 선언합니다\n",
        "\n",
        "\"\"\""
      ],
      "metadata": {
        "colab": {
          "base_uri": "https://localhost:8080/",
          "height": 35
        },
        "id": "Sr8Z7w1xq6Vm",
        "outputId": "63d8eeda-7e0c-487d-bce9-9984977820d3"
      },
      "execution_count": 26,
      "outputs": [
        {
          "output_type": "execute_result",
          "data": {
            "text/plain": [
              "' - 실습 문제 1\\n    H(x) = sigmoid(Wx + b) \\n    위의 수식을 참고하세요\\n    x_train와 y_train을 먼저 텐서로 선언합니다\\n\\n'"
            ],
            "application/vnd.google.colaboratory.intrinsic+json": {
              "type": "string"
            }
          },
          "metadata": {},
          "execution_count": 26
        }
      ]
    },
    {
      "cell_type": "code",
      "source": [
        "\"\"\"\n",
        "1-1.이때 x_train을 X라고 하고 이와 곱해지는 가중치 벡터를 W라고 하였을 때,\n",
        "XW가 성립되기 위해서는 W벡터의 크기는 2x1이어야 한다. 이때 w와 b의 값을 구현하는 코드를 작성하시오\n",
        "\"\"\"\n",
        "W = torch.zeros((2,1), requires_grad=True)\n",
        "b = torch.zeros((1), requires_grad=True)"
      ],
      "metadata": {
        "id": "-UgIru0ywE9D"
      },
      "execution_count": 27,
      "outputs": []
    },
    {
      "cell_type": "code",
      "source": [
        "\"\"\"\n",
        "1-2.수식을 참고하여 행렬 연산을 사용한 가설식 코드를 작성하시오\n",
        "\"\"\"\n",
        "Hypothesis = 1 / (1+ torch.exp(-(x_train.matmul(W)+b)))\n",
        "#print(Hypothesis)"
      ],
      "metadata": {
        "id": "UyoA5To5q8CB"
      },
      "execution_count": 28,
      "outputs": []
    },
    {
      "cell_type": "code",
      "source": [
        "\"\"\"\n",
        "1-3.가설식을 파이토치 라이브러리를 이용하여 더 간단히 구현하시오\n",
        "\"\"\"\n",
        "hypothesis = torch.sigmoid(x_train.matmul(W)+b)\n",
        "#print(hypothesis)"
      ],
      "metadata": {
        "id": "1eLUBE54wLBt"
      },
      "execution_count": 29,
      "outputs": []
    },
    {
      "cell_type": "code",
      "source": [
        "\"\"\"\n",
        "2-1.하나의 원소에 대해서만 오차를 구하는 식을 작성하시오\n",
        "\"\"\"\n",
        "print(y_train[0])\n",
        "print(W[0])\n",
        "cost_1=-(y_train[0]*torch.log(Hypothesis[0])+(1-y_train[0])*torch.log(1-Hypothesis[0]))\n",
        "print(cost_1)"
      ],
      "metadata": {
        "colab": {
          "base_uri": "https://localhost:8080/"
        },
        "id": "U_f8J83WvDHK",
        "outputId": "3c4f1f95-aa4a-4c3d-8850-f3813495ea4f"
      },
      "execution_count": 30,
      "outputs": [
        {
          "output_type": "stream",
          "name": "stdout",
          "text": [
            "tensor([0.])\n",
            "tensor([0.], grad_fn=<SelectBackward0>)\n",
            "tensor([0.6931], grad_fn=<NegBackward0>)\n"
          ]
        }
      ]
    },
    {
      "cell_type": "code",
      "source": [
        "\"\"\"\n",
        "2-2.위의 수식을 토대로 모든 원소에 대한 오차를 구하시오\n",
        "\"\"\"\n",
        "#print(len(x_train))\n",
        "loss = -(y_train * torch.log(hypothesis)+(1-y_train) * torch.log(1-hypothesis))\n",
        "print(loss)"
      ],
      "metadata": {
        "colab": {
          "base_uri": "https://localhost:8080/"
        },
        "id": "dwWhpCC6zXNG",
        "outputId": "9089ceaf-bb0b-4b2f-dd55-a9bbaab680c2"
      },
      "execution_count": 31,
      "outputs": [
        {
          "output_type": "stream",
          "name": "stdout",
          "text": [
            "tensor([[0.6931],\n",
            "        [0.6931],\n",
            "        [0.6931],\n",
            "        [0.6931],\n",
            "        [0.6931],\n",
            "        [0.6931]], grad_fn=<NegBackward0>)\n"
          ]
        }
      ]
    },
    {
      "cell_type": "code",
      "source": [
        "\"\"\"\n",
        "2-3. 전체 오차에 대한 평균을 구하시오\n",
        "\"\"\"\n",
        "print(loss.mean())"
      ],
      "metadata": {
        "colab": {
          "base_uri": "https://localhost:8080/"
        },
        "id": "IGypRbtp0x2B",
        "outputId": "9feb6d57-b98d-4032-c873-3225cda61878"
      },
      "execution_count": 32,
      "outputs": [
        {
          "output_type": "stream",
          "name": "stdout",
          "text": [
            "tensor(0.6931, grad_fn=<MeanBackward0>)\n"
          ]
        }
      ]
    },
    {
      "cell_type": "code",
      "source": [
        "\"\"\"\n",
        "2-4.파이토치를 이용하여 로지스틱 회귀의 비용 함수를 구현하시오\n",
        "\"\"\"\n",
        "cost = F.binary_cross_entropy(hypothesis, y_train)\n",
        "print(cost)\n",
        "\n"
      ],
      "metadata": {
        "colab": {
          "base_uri": "https://localhost:8080/"
        },
        "id": "o1TeIgGV0687",
        "outputId": "44d8f682-67d1-444a-9ead-aa7917aeee96"
      },
      "execution_count": 33,
      "outputs": [
        {
          "output_type": "stream",
          "name": "stdout",
          "text": [
            "tensor(0.6931, grad_fn=<BinaryCrossEntropyBackward0>)\n"
          ]
        }
      ]
    }
  ]
}